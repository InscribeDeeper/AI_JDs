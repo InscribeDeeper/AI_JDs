{
 "cells": [
  {
   "cell_type": "markdown",
   "metadata": {
    "toc": true
   },
   "source": [
    "<h1>Table of Contents<span class=\"tocSkip\"></span></h1>\n",
    "<div class=\"toc\"><ul class=\"toc-item\"></ul></div>"
   ]
  },
  {
   "cell_type": "code",
   "execution_count": null,
   "metadata": {},
   "outputs": [],
   "source": [
    "import requests\n",
    "from bs4 import BeautifulSoup   \n",
    "from selenium import webdriver\n",
    "from selenium.webdriver.common.by import By\n",
    "from selenium.webdriver.support.ui import WebDriverWait\n",
    "from selenium.webdriver.support import expected_conditions\n",
    "from selenium.webdriver.chrome.options import Options\n",
    "import time\n",
    "import warnings\n",
    "warnings.filterwarnings(\"ignore\")\n",
    "\n",
    "start_time = time.time()\n",
    "# Path where you save the webdriver \n",
    "executable_path = './chromedriver'\n",
    "\n",
    "save_text = \"\"\n",
    "JD_num = 1\n",
    "chrome_options = Options()\n",
    "chrome_options.add_argument(\"--headless\")\n",
    "### choose what job we need to analyze\n",
    "job_type = \"receptionist\"\n",
    "### the lcoation of this job\n",
    "location = \"Seattle\"\n",
    "page_num = 0\n",
    "while(True):\n",
    "    urls = \"https://www.indeed.com/jobs?q=\"+job_type+\"&l=\"+location+\"&start=\"+str(page_num)+\"&vjk=fd9d803a24e2b77f\"\n",
    "    page = requests.get(urls)    \n",
    "    if page.status_code == 200:      \n",
    "        soup = BeautifulSoup(page.content, 'html.parser')\n",
    "        jobs_list = soup.select(\"td#resultsCol a.jobtitle.turnstileLink \")\n",
    "    \n",
    "    for i, q in enumerate(jobs_list):\n",
    "        url2 = 'http://indeed.com'+jobs_list[i].attrs['href']\n",
    "        driver = webdriver.Chrome(executable_path=executable_path,chrome_options = chrome_options)\n",
    "        driver.implicitly_wait(20)\n",
    "        driver.get(url2)\n",
    "        ans = driver.find_elements_by_css_selector(\"div#jobDescriptionText\")\n",
    "        if(len(ans) > 0):\n",
    "            for a,b in enumerate(ans):\n",
    "                JD_text = \" \".join(b.text.split('\\n\\n'))\n",
    "                save_text += JD_text\n",
    "                save_text += '\\n\\n\\n'\n",
    "            JD_num += 1\n",
    "        driver.quit()\n",
    "        if(JD_num == 781):\n",
    "            break\n",
    "    else:\n",
    "        print(\"page: \", (page_num/10)+1)\n",
    "        page_num += 10 \n",
    "        continue\n",
    "    break\n",
    "### save all job description into one .txt file\n",
    "text_file = open(\"Output_SE2.txt\", \"w\")\n",
    "###\n",
    "text_file.write(save_text)\n",
    "text_file.close()\n",
    "print(\"Done, running time: %s seconds\" % (time.time() - start_time))"
   ]
  }
 ],
 "metadata": {
  "kernelspec": {
   "display_name": "Python 3",
   "language": "python",
   "name": "python3"
  },
  "language_info": {
   "codemirror_mode": {
    "name": "ipython",
    "version": 3
   },
   "file_extension": ".py",
   "mimetype": "text/x-python",
   "name": "python",
   "nbconvert_exporter": "python",
   "pygments_lexer": "ipython3",
   "version": "3.7.6"
  },
  "toc": {
   "base_numbering": 1,
   "nav_menu": {},
   "number_sections": true,
   "sideBar": true,
   "skip_h1_title": false,
   "title_cell": "Table of Contents",
   "title_sidebar": "Contents",
   "toc_cell": true,
   "toc_position": {},
   "toc_section_display": true,
   "toc_window_display": false
  }
 },
 "nbformat": 4,
 "nbformat_minor": 2
}
